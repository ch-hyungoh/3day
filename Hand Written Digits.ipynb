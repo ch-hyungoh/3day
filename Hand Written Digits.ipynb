{
 "cells": [
  {
   "cell_type": "code",
   "execution_count": 4,
   "metadata": {},
   "outputs": [
    {
     "ename": "ModuleNotFoundError",
     "evalue": "No module named 'keras'",
     "output_type": "error",
     "traceback": [
      "\u001b[1;31m---------------------------------------------------------------------------\u001b[0m",
      "\u001b[1;31mModuleNotFoundError\u001b[0m                       Traceback (most recent call last)",
      "\u001b[1;32m<ipython-input-4-c478a2cd3d04>\u001b[0m in \u001b[0;36m<module>\u001b[1;34m\u001b[0m\n\u001b[0;32m      1\u001b[0m \u001b[1;32mimport\u001b[0m \u001b[0mnumpy\u001b[0m \u001b[1;32mas\u001b[0m \u001b[0mnp\u001b[0m\u001b[1;33m\u001b[0m\u001b[1;33m\u001b[0m\u001b[0m\n\u001b[1;32m----> 2\u001b[1;33m \u001b[1;32mfrom\u001b[0m \u001b[0mkeras\u001b[0m\u001b[1;33m.\u001b[0m\u001b[0mutils\u001b[0m \u001b[1;32mimport\u001b[0m \u001b[0mnp_utils\u001b[0m\u001b[1;33m\u001b[0m\u001b[1;33m\u001b[0m\u001b[0m\n\u001b[0m\u001b[0;32m      3\u001b[0m \u001b[1;32mfrom\u001b[0m \u001b[0mtensorflow\u001b[0m\u001b[1;33m.\u001b[0m\u001b[0mkeras\u001b[0m\u001b[1;33m.\u001b[0m\u001b[0mdatasets\u001b[0m \u001b[1;32mimport\u001b[0m \u001b[0mmnist\u001b[0m\u001b[1;33m\u001b[0m\u001b[1;33m\u001b[0m\u001b[0m\n\u001b[0;32m      4\u001b[0m \u001b[1;32mfrom\u001b[0m \u001b[0mtensorflow\u001b[0m\u001b[1;33m.\u001b[0m\u001b[0mkeras\u001b[0m\u001b[1;33m.\u001b[0m\u001b[0mmodels\u001b[0m \u001b[1;32mimport\u001b[0m \u001b[0mSequential\u001b[0m\u001b[1;33m\u001b[0m\u001b[1;33m\u001b[0m\u001b[0m\n\u001b[0;32m      5\u001b[0m \u001b[1;32mfrom\u001b[0m \u001b[0mtensorflow\u001b[0m\u001b[1;33m.\u001b[0m\u001b[0mkeras\u001b[0m\u001b[1;33m.\u001b[0m\u001b[0mlayers\u001b[0m \u001b[1;32mimport\u001b[0m \u001b[0mDense\u001b[0m\u001b[1;33m,\u001b[0m \u001b[0mActivation\u001b[0m\u001b[1;33m\u001b[0m\u001b[1;33m\u001b[0m\u001b[0m\n",
      "\u001b[1;31mModuleNotFoundError\u001b[0m: No module named 'keras'"
     ]
    }
   ],
   "source": [
    "import numpy as np\n",
    "from keras.utils import np_utils\n",
    "from tensorflow.keras.datasets import mnist\n",
    "from tensorflow.keras.models import Sequential\n",
    "from tensorflow.keras.layers import Dense, Activation\n",
    "width = 28\n",
    "height = 28\n",
    "\n",
    "# 1. 데이터셋 생성하기\n",
    "# 훈련셋과 시험셋 불러오기\n",
    "(x_train, y_train), (x_test, y_test) = mnist.load_data()"
   ]
  },
  {
   "cell_type": "code",
   "execution_count": 3,
   "metadata": {},
   "outputs": [
    {
     "ename": "NameError",
     "evalue": "name 'x_test' is not defined",
     "output_type": "error",
     "traceback": [
      "\u001b[1;31m---------------------------------------------------------------------------\u001b[0m",
      "\u001b[1;31mNameError\u001b[0m                                 Traceback (most recent call last)",
      "\u001b[1;32m<ipython-input-3-98fe5b46904a>\u001b[0m in \u001b[0;36m<module>\u001b[1;34m\u001b[0m\n\u001b[0;32m      1\u001b[0m \u001b[1;32mimport\u001b[0m \u001b[0mmatplotlib\u001b[0m\u001b[1;33m.\u001b[0m\u001b[0mpyplot\u001b[0m \u001b[1;32mas\u001b[0m \u001b[0mplt\u001b[0m\u001b[1;33m\u001b[0m\u001b[1;33m\u001b[0m\u001b[0m\n\u001b[1;32m----> 2\u001b[1;33m \u001b[0mplt\u001b[0m\u001b[1;33m.\u001b[0m\u001b[0mimshow\u001b[0m\u001b[1;33m(\u001b[0m\u001b[0mx_test\u001b[0m\u001b[1;33m[\u001b[0m\u001b[1;36m0\u001b[0m\u001b[1;33m]\u001b[0m\u001b[1;33m.\u001b[0m\u001b[0mreshape\u001b[0m\u001b[1;33m(\u001b[0m\u001b[1;33m(\u001b[0m\u001b[1;36m28\u001b[0m\u001b[1;33m,\u001b[0m \u001b[1;36m28\u001b[0m\u001b[1;33m)\u001b[0m\u001b[1;33m)\u001b[0m\u001b[1;33m,\u001b[0m \u001b[0mcmap\u001b[0m\u001b[1;33m=\u001b[0m\u001b[0mplt\u001b[0m\u001b[1;33m.\u001b[0m\u001b[0mcm\u001b[0m\u001b[1;33m.\u001b[0m\u001b[0mYlOrBr\u001b[0m\u001b[1;33m)\u001b[0m\u001b[1;33m\u001b[0m\u001b[1;33m\u001b[0m\u001b[0m\n\u001b[0m\u001b[0;32m      3\u001b[0m \u001b[1;31m#print('Index %d: Label %d' % (0, test_labels[0]))\u001b[0m\u001b[1;33m\u001b[0m\u001b[1;33m\u001b[0m\u001b[1;33m\u001b[0m\u001b[0m\n",
      "\u001b[1;31mNameError\u001b[0m: name 'x_test' is not defined"
     ]
    }
   ],
   "source": [
    "import matplotlib.pyplot as plt\n",
    "plt.imshow(x_test[0].reshape((28, 28)), cmap=plt.cm.YlOrBr)\n",
    "#print('Index %d: Label %d' % (0, test_labels[0]))"
   ]
  },
  {
   "cell_type": "code",
   "execution_count": 3,
   "metadata": {},
   "outputs": [
    {
     "name": "stdout",
     "output_type": "stream",
     "text": [
      "Train on 50000 samples, validate on 10000 samples\n",
      "Epoch 1/30\n",
      "50000/50000 [==============================] - 16s 329us/sample - loss: 0.6749 - acc: 0.8208 - val_loss: 0.3260 - val_acc: 0.9076\n",
      "Epoch 2/30\n",
      "50000/50000 [==============================] - 16s 322us/sample - loss: 0.2802 - acc: 0.9189 - val_loss: 0.2164 - val_acc: 0.9380\n",
      "Epoch 3/30\n",
      "50000/50000 [==============================] - 16s 325us/sample - loss: 0.2186 - acc: 0.9366 - val_loss: 0.1803 - val_acc: 0.9496\n",
      "Epoch 4/30\n",
      "50000/50000 [==============================] - 18s 361us/sample - loss: 0.1805 - acc: 0.9478 - val_loss: 0.1567 - val_acc: 0.9573\n",
      "Epoch 5/30\n",
      "50000/50000 [==============================] - 16s 328us/sample - loss: 0.1529 - acc: 0.9556 - val_loss: 0.1377 - val_acc: 0.9620\n",
      "Epoch 6/30\n",
      "50000/50000 [==============================] - 17s 348us/sample - loss: 0.1324 - acc: 0.9615 - val_loss: 0.1341 - val_acc: 0.9608\n",
      "Epoch 7/30\n",
      "50000/50000 [==============================] - 19s 388us/sample - loss: 0.1168 - acc: 0.9665 - val_loss: 0.1136 - val_acc: 0.9695\n",
      "Epoch 8/30\n",
      "50000/50000 [==============================] - 22s 432us/sample - loss: 0.1041 - acc: 0.9701 - val_loss: 0.1111 - val_acc: 0.9690\n",
      "Epoch 9/30\n",
      "50000/50000 [==============================] - 21s 411us/sample - loss: 0.0934 - acc: 0.9735 - val_loss: 0.1133 - val_acc: 0.9686\n",
      "Epoch 10/30\n",
      "50000/50000 [==============================] - 18s 363us/sample - loss: 0.0838 - acc: 0.9763 - val_loss: 0.0999 - val_acc: 0.9729\n",
      "Epoch 11/30\n",
      "50000/50000 [==============================] - 17s 345us/sample - loss: 0.0760 - acc: 0.9786 - val_loss: 0.0991 - val_acc: 0.9718\n",
      "Epoch 12/30\n",
      "50000/50000 [==============================] - 19s 383us/sample - loss: 0.0690 - acc: 0.9806 - val_loss: 0.0955 - val_acc: 0.9724\n",
      "Epoch 13/30\n",
      "50000/50000 [==============================] - 18s 369us/sample - loss: 0.0633 - acc: 0.9818 - val_loss: 0.0908 - val_acc: 0.9744\n",
      "Epoch 14/30\n",
      "50000/50000 [==============================] - 18s 357us/sample - loss: 0.0575 - acc: 0.9838 - val_loss: 0.0908 - val_acc: 0.9737\n",
      "Epoch 15/30\n",
      "50000/50000 [==============================] - 17s 345us/sample - loss: 0.0522 - acc: 0.9853 - val_loss: 0.0868 - val_acc: 0.9744\n",
      "Epoch 16/30\n",
      "50000/50000 [==============================] - 18s 369us/sample - loss: 0.0482 - acc: 0.9865 - val_loss: 0.0851 - val_acc: 0.9756\n",
      "Epoch 17/30\n",
      "50000/50000 [==============================] - 19s 378us/sample - loss: 0.0439 - acc: 0.9881 - val_loss: 0.0912 - val_acc: 0.9724\n",
      "Epoch 18/30\n",
      "50000/50000 [==============================] - 19s 379us/sample - loss: 0.0400 - acc: 0.9891 - val_loss: 0.0877 - val_acc: 0.9759\n",
      "Epoch 19/30\n",
      "50000/50000 [==============================] - 18s 357us/sample - loss: 0.0364 - acc: 0.9904 - val_loss: 0.0826 - val_acc: 0.9756\n",
      "Epoch 20/30\n",
      "50000/50000 [==============================] - 20s 407us/sample - loss: 0.0334 - acc: 0.9914 - val_loss: 0.0810 - val_acc: 0.9762\n",
      "Epoch 21/30\n",
      "50000/50000 [==============================] - 19s 379us/sample - loss: 0.0304 - acc: 0.9925 - val_loss: 0.0760 - val_acc: 0.9778\n",
      "Epoch 22/30\n",
      "50000/50000 [==============================] - 20s 395us/sample - loss: 0.0278 - acc: 0.9931 - val_loss: 0.0781 - val_acc: 0.9776\n",
      "Epoch 23/30\n",
      "50000/50000 [==============================] - 19s 377us/sample - loss: 0.0257 - acc: 0.9938 - val_loss: 0.0798 - val_acc: 0.9777\n",
      "Epoch 24/30\n",
      "50000/50000 [==============================] - 21s 416us/sample - loss: 0.0231 - acc: 0.9946 - val_loss: 0.0881 - val_acc: 0.9748\n",
      "Epoch 25/30\n",
      "50000/50000 [==============================] - 19s 390us/sample - loss: 0.0211 - acc: 0.9952 - val_loss: 0.0802 - val_acc: 0.9775\n",
      "Epoch 26/30\n",
      "50000/50000 [==============================] - 20s 409us/sample - loss: 0.0195 - acc: 0.9958 - val_loss: 0.0767 - val_acc: 0.9789\n",
      "Epoch 27/30\n",
      "50000/50000 [==============================] - 17s 349us/sample - loss: 0.0175 - acc: 0.9968 - val_loss: 0.0930 - val_acc: 0.9739\n",
      "Epoch 28/30\n",
      "50000/50000 [==============================] - 20s 406us/sample - loss: 0.0159 - acc: 0.9972 - val_loss: 0.0813 - val_acc: 0.9783\n",
      "Epoch 29/30\n",
      "50000/50000 [==============================] - 20s 405us/sample - loss: 0.0145 - acc: 0.9977 - val_loss: 0.0790 - val_acc: 0.9785\n",
      "Epoch 30/30\n",
      "50000/50000 [==============================] - 18s 361us/sample - loss: 0.0133 - acc: 0.9978 - val_loss: 0.0824 - val_acc: 0.9769\n"
     ]
    }
   ],
   "source": [
    "import numpy as np\n",
    "from keras.utils import np_utils\n",
    "from tensorflow.keras.datasets import mnist\n",
    "from tensorflow.keras.models import Sequential\n",
    "from tensorflow.keras.layers import Dense, Activation\n",
    "width = 28\n",
    "height = 28\n",
    "\n",
    "# 1. 데이터셋 생성하기\n",
    "# 훈련셋과 시험셋 불러오기\n",
    "(x_train, y_train), (x_test, y_test) = mnist.load_data()\n",
    "x_train = x_train.reshape(60000, width*height).astype('float32') / 255.0\n",
    "x_test = x_test.reshape(10000, width*height).astype('float32') / 255.0\n",
    "\n",
    "# 훈련셋과 검증셋 분리\n",
    "x_val = x_train[50000:]\n",
    "y_val = y_train[50000:]\n",
    "x_train = x_train[:50000]\n",
    "y_train = y_train[:50000]\n",
    "\n",
    "# 데이터셋 전처리 : one-hot 인코딩\n",
    "y_train = np_utils.to_categorical(y_train)\n",
    "y_val = np_utils.to_categorical(y_val)\n",
    "y_test = np_utils.to_categorical(y_test)\n",
    "\n",
    "# 2. 모델 구성하기\n",
    "model = Sequential()\n",
    "model.add(Dense(256, input_dim=width*height, activation='relu'))\n",
    "model.add(Dense(256, activation='relu'))\n",
    "model.add(Dense(256, activation='relu'))\n",
    "model.add(Dense(10, activation='softmax'))\n",
    "\n",
    "# 3. 모델 학습과정 설정하기\n",
    "model.compile(loss='categorical_crossentropy', optimizer='sgd', metrics=['acc'])\n",
    "\n",
    "# 4. 모델 학습시키기\n",
    "hist = model.fit(x_train, y_train, epochs=30, batch_size=32, validation_data=(x_val, y_val))\n",
    "\n"
   ]
  },
  {
   "cell_type": "code",
   "execution_count": 5,
   "metadata": {},
   "outputs": [
    {
     "data": {
      "image/png": "[encoded data removed]",
      "text/plain": [
       "<Figure size 432x288 with 2 Axes>"
      ]
     },
     "metadata": {
      "needs_background": "light"
     },
     "output_type": "display_data"
    },
    {
     "name": "stdout",
     "output_type": "stream",
     "text": [
      "10000/10000 [==============================] - 2s 168us/sample - loss: 0.0744 - acc: 0.9782\n",
      "## evaluation loss and_metrics ##\n",
      "[0.07436429007949773, 0.9782]\n"
     ]
    }
   ],
   "source": [
    "# 5. 학습과정 살펴보기\n",
    "%matplotlib inline\n",
    "import matplotlib.pyplot as plt\n",
    "fig, loss_ax = plt.subplots()\n",
    "acc_ax = loss_ax.twinx()\n",
    "loss_ax.plot(hist.history['loss'], 'y', label='train loss')\n",
    "loss_ax.plot(hist.history['val_loss'], 'r', label='val loss')\n",
    "loss_ax.set_ylim([0.0, 0.5])\n",
    "acc_ax.plot(hist.history['acc'], 'b', label='train acc')\n",
    "acc_ax.plot(hist.history['val_acc'], 'g', label='val acc')\n",
    "acc_ax.set_ylim([0.8, 1.0])\n",
    "loss_ax.set_xlabel('epoch')\n",
    "loss_ax.set_ylabel('loss')\n",
    "acc_ax.set_ylabel('accuray')\n",
    "loss_ax.legend(loc='upper left')\n",
    "acc_ax.legend(loc='lower left')\n",
    "plt.show()\n",
    "\n",
    "# 6. 모델 평가하기\n",
    "loss_and_metrics = model.evaluate(x_test, y_test, batch_size=32)\n",
    "print('## evaluation loss and_metrics ##')\n",
    "print(loss_and_metrics)\n",
    "\n",
    "# 7. 모델 사용하기\n",
    "yhat_test = model.predict(x_test, batch_size=32)\n",
    "\n"
   ]
  },
  {
   "cell_type": "code",
   "execution_count": 7,
   "metadata": {},
   "outputs": [],
   "source": [
    "(x_train, y_train), (x_test, y_test) = mnist.load_data()\n",
    "x_train = x_train.reshape(60000, width*height).astype('float32') / 255.0\n",
    "x_test = x_test.reshape(10000, width*height).astype('float32') / 255.0\n",
    "\n",
    "# 훈련셋과 검증셋 분리\n",
    "x_val = x_train[50000:]\n",
    "y_val = y_train[50000:]\n",
    "x_train = x_train[:50000]\n",
    "y_train = y_train[:50000]\n",
    "\n",
    "# 데이터셋 전처리 : one-hot 인코딩\n",
    "y_train = np_utils.to_categorical(y_train)\n",
    "y_val = np_utils.to_categorical(y_val)\n",
    "y_test = np_utils.to_categorical(y_test)"
   ]
  },
  {
   "cell_type": "code",
   "execution_count": 25,
   "metadata": {},
   "outputs": [
    {
     "name": "stdout",
     "output_type": "stream",
     "text": [
      "0.8703\n"
     ]
    }
   ],
   "source": [
    "from sklearn import datasets, tree\n",
    "clf = tree.DecisionTreeClassifier()\n",
    "clf.fit(x_train, y_train)  \n",
    "predictions = clf.predict(x_test)\n",
    "from sklearn.metrics import accuracy_score\n",
    "print(accuracy_score(y_test, predictions))  "
   ]
  },
  {
   "cell_type": "code",
   "execution_count": null,
   "metadata": {},
   "outputs": [],
   "source": [
    "pred = np.where(predictions == 1)[1]\n",
    "print(pred[:10])"
   ]
  },
  {
   "cell_type": "code",
   "execution_count": null,
   "metadata": {},
   "outputs": [],
   "source": [
    "ans = np.where(y_test == 1)[1]\n",
    "print(ans[:10])"
   ]
  },
  {
   "cell_type": "code",
   "execution_count": 29,
   "metadata": {},
   "outputs": [
    {
     "name": "stdout",
     "output_type": "stream",
     "text": [
      "0.9658\n"
     ]
    }
   ],
   "source": [
    "from sklearn.neighbors import KNeighborsClassifier\n",
    "clf = KNeighborsClassifier()   \n",
    "clf.fit(x_test, y_test)  \n",
    "predictions = clf.predict(x_test)\n",
    "from sklearn.metrics import accuracy_score\n",
    "print(accuracy_score(y_test, predictions)) "
   ]
  },
  {
   "cell_type": "code",
   "execution_count": 40,
   "metadata": {},
   "outputs": [
    {
     "name": "stdout",
     "output_type": "stream",
     "text": [
      "[7 2 1 0 4 1 4 9 5 9]\n"
     ]
    }
   ],
   "source": [
    "pred = np.where(predictions == 1)[1]\n",
    "print(pred[:10])"
   ]
  },
  {
   "cell_type": "code",
   "execution_count": 41,
   "metadata": {},
   "outputs": [
    {
     "name": "stdout",
     "output_type": "stream",
     "text": [
      "[7 2 1 0 4 1 4 9 5 9]\n"
     ]
    }
   ],
   "source": [
    "ans = np.where(y_test == 1)[1]\n",
    "print(ans[:10])"
   ]
  },
  {
   "cell_type": "code",
   "execution_count": null,
   "metadata": {},
   "outputs": [],
   "source": [
    "# 무작위\n",
    "from sklearn import datasets\n",
    "digits = datasets.load_digits()\n",
    "import random\n",
    "class myKNN():\n",
    "    def fit(self, X_train, y_train):\n",
    "        self.X_train = X_train\n",
    "        self.y_train = y_train\n",
    "    def predict(self, X_test):\n",
    "        predictions = []\n",
    "        for row in X_test:\n",
    "            label = random.choice(self.y_train) \n",
    "            predictions.append(label)\n",
    "        return predictions\n",
    "clf = myKNN()   # 나만의 구분자를 사용!\n",
    "clf.fit(data, labels)  \n",
    "predictions = clf.predict(test_data)\n",
    "from sklearn.metrics import accuracy_score\n",
    "print(accuracy_score(test_labels, predictions)) "
   ]
  }
 ],
 "metadata": {
  "kernelspec": {
   "display_name": "Python 3",
   "language": "python",
   "name": "python3"
  },
  "language_info": {
   "codemirror_mode": {
    "name": "ipython",
    "version": 3
   },
   "file_extension": ".py",
   "mimetype": "text/x-python",
   "name": "python",
   "nbconvert_exporter": "python",
   "pygments_lexer": "ipython3",
   "version": "3.7.6"
  }
 },
 "nbformat": 4,
 "nbformat_minor": 2
}
