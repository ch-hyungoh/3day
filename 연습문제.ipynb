{
 "cells": [
  {
   "cell_type": "code",
   "execution_count": 7,
   "metadata": {},
   "outputs": [
    {
     "data": {
      "text/plain": [
       "Index(['altitude', 'date_time', 'device_info_serial', 'direction', 'latitude',\n",
       "       'longitude', 'speed_2d', 'bird_name'],\n",
       "      dtype='object')"
      ]
     },
     "execution_count": 7,
     "metadata": {},
     "output_type": "execute_result"
    }
   ],
   "source": [
    "import pandas as pd\n",
    "birdata = pd.read_csv('bird_tracking.csv')\n",
    "birdata.columns"
   ]
  },
  {
   "cell_type": "code",
   "execution_count": 8,
   "metadata": {},
   "outputs": [
    {
     "data": {
      "text/html": [
       "<div>\n",
       "<style scoped>\n",
       "    .dataframe tbody tr th:only-of-type {\n",
       "        vertical-align: middle;\n",
       "    }\n",
       "\n",
       "    .dataframe tbody tr th {\n",
       "        vertical-align: top;\n",
       "    }\n",
       "\n",
       "    .dataframe thead th {\n",
       "        text-align: right;\n",
       "    }\n",
       "</style>\n",
       "<table border=\"1\" class=\"dataframe\">\n",
       "  <thead>\n",
       "    <tr style=\"text-align: right;\">\n",
       "      <th></th>\n",
       "      <th>altitude</th>\n",
       "      <th>date_time</th>\n",
       "      <th>device_info_serial</th>\n",
       "      <th>direction</th>\n",
       "      <th>latitude</th>\n",
       "      <th>longitude</th>\n",
       "      <th>speed_2d</th>\n",
       "      <th>bird_name</th>\n",
       "    </tr>\n",
       "  </thead>\n",
       "  <tbody>\n",
       "    <tr>\n",
       "      <th>61926</th>\n",
       "      <td>11</td>\n",
       "      <td>2014-04-30 22:00:08+00</td>\n",
       "      <td>833</td>\n",
       "      <td>NaN</td>\n",
       "      <td>51.352572</td>\n",
       "      <td>3.177151</td>\n",
       "      <td>0.247524</td>\n",
       "      <td>Sanne</td>\n",
       "    </tr>\n",
       "    <tr>\n",
       "      <th>61927</th>\n",
       "      <td>6</td>\n",
       "      <td>2014-04-30 22:29:57+00</td>\n",
       "      <td>833</td>\n",
       "      <td>NaN</td>\n",
       "      <td>51.352585</td>\n",
       "      <td>3.177144</td>\n",
       "      <td>1.318102</td>\n",
       "      <td>Sanne</td>\n",
       "    </tr>\n",
       "    <tr>\n",
       "      <th>61928</th>\n",
       "      <td>5</td>\n",
       "      <td>2014-04-30 22:59:52+00</td>\n",
       "      <td>833</td>\n",
       "      <td>NaN</td>\n",
       "      <td>51.352622</td>\n",
       "      <td>3.177257</td>\n",
       "      <td>2.296908</td>\n",
       "      <td>Sanne</td>\n",
       "    </tr>\n",
       "    <tr>\n",
       "      <th>61929</th>\n",
       "      <td>16</td>\n",
       "      <td>2014-04-30 23:29:43+00</td>\n",
       "      <td>833</td>\n",
       "      <td>NaN</td>\n",
       "      <td>51.354641</td>\n",
       "      <td>3.181509</td>\n",
       "      <td>0.586551</td>\n",
       "      <td>Sanne</td>\n",
       "    </tr>\n",
       "    <tr>\n",
       "      <th>61930</th>\n",
       "      <td>9</td>\n",
       "      <td>2014-04-30 23:59:34+00</td>\n",
       "      <td>833</td>\n",
       "      <td>NaN</td>\n",
       "      <td>51.354474</td>\n",
       "      <td>3.181057</td>\n",
       "      <td>0.788666</td>\n",
       "      <td>Sanne</td>\n",
       "    </tr>\n",
       "  </tbody>\n",
       "</table>\n",
       "</div>"
      ],
      "text/plain": [
       "       altitude               date_time  device_info_serial  direction  \\\n",
       "61926        11  2014-04-30 22:00:08+00                 833        NaN   \n",
       "61927         6  2014-04-30 22:29:57+00                 833        NaN   \n",
       "61928         5  2014-04-30 22:59:52+00                 833        NaN   \n",
       "61929        16  2014-04-30 23:29:43+00                 833        NaN   \n",
       "61930         9  2014-04-30 23:59:34+00                 833        NaN   \n",
       "\n",
       "        latitude  longitude  speed_2d bird_name  \n",
       "61926  51.352572   3.177151  0.247524     Sanne  \n",
       "61927  51.352585   3.177144  1.318102     Sanne  \n",
       "61928  51.352622   3.177257  2.296908     Sanne  \n",
       "61929  51.354641   3.181509  0.586551     Sanne  \n",
       "61930  51.354474   3.181057  0.788666     Sanne  "
      ]
     },
     "execution_count": 8,
     "metadata": {},
     "output_type": "execute_result"
    }
   ],
   "source": [
    "birdata.tail()"
   ]
  },
  {
   "cell_type": "code",
   "execution_count": 9,
   "metadata": {},
   "outputs": [
    {
     "data": {
      "text/plain": [
       "0    2013-08-15 00:18:08+00\n",
       "1    2013-08-15 00:48:07+00\n",
       "2    2013-08-15 01:17:58+00\n",
       "Name: date_time, dtype: object"
      ]
     },
     "execution_count": 9,
     "metadata": {},
     "output_type": "execute_result"
    }
   ],
   "source": [
    "birdata.date_time[0:3]"
   ]
  },
  {
   "cell_type": "code",
   "execution_count": 10,
   "metadata": {},
   "outputs": [
    {
     "name": "stdout",
     "output_type": "stream",
     "text": [
      "40923    2013-08-15 00:01:08+00\n",
      "Name: date_time, dtype: object\n"
     ]
    }
   ],
   "source": [
    "ix = birdata.bird_name == \"Sanne\"\n",
    "date = birdata[ix].date_time\n",
    "print(date[:1])"
   ]
  },
  {
   "cell_type": "code",
   "execution_count": 11,
   "metadata": {},
   "outputs": [
    {
     "name": "stdout",
     "output_type": "stream",
     "text": [
      "40923    2013-08-15 00:01:08+00\n",
      "40924    2013-08-15 00:31:00+00\n",
      "40925    2013-08-15 01:01:19+00\n",
      "40926    2013-08-15 01:31:38+00\n",
      "40927    2013-08-15 02:01:24+00\n",
      "                  ...          \n",
      "61925    2014-04-30 21:29:45+00\n",
      "61926    2014-04-30 22:00:08+00\n",
      "61927    2014-04-30 22:29:57+00\n",
      "61928    2014-04-30 22:59:52+00\n",
      "61929    2014-04-30 23:29:43+00\n",
      "Name: date_time, Length: 21007, dtype: object\n"
     ]
    }
   ],
   "source": [
    "print(date[:-1])"
   ]
  },
  {
   "cell_type": "code",
   "execution_count": 12,
   "metadata": {},
   "outputs": [
    {
     "data": {
      "text/plain": [
       "array(['Eric', 'Nico', 'Sanne'], dtype=object)"
      ]
     },
     "execution_count": 12,
     "metadata": {},
     "output_type": "execute_result"
    }
   ],
   "source": [
    "bird_names = pd.unique(birdata.bird_name)\n",
    "bird_names"
   ]
  },
  {
   "cell_type": "code",
   "execution_count": 13,
   "metadata": {},
   "outputs": [
    {
     "data": {
      "text/plain": [
       "True"
      ]
     },
     "execution_count": 13,
     "metadata": {},
     "output_type": "execute_result"
    }
   ],
   "source": [
    "from numpy import NaN\n",
    "NaN not in birdata['direction']"
   ]
  },
  {
   "cell_type": "code",
   "execution_count": 6,
   "metadata": {},
   "outputs": [
    {
     "ename": "NameError",
     "evalue": "name 'dt' is not defined",
     "output_type": "error",
     "traceback": [
      "\u001b[1;31m---------------------------------------------------------------------------\u001b[0m",
      "\u001b[1;31mNameError\u001b[0m                                 Traceback (most recent call last)",
      "\u001b[1;32m<ipython-input-6-dac40ef836ae>\u001b[0m in \u001b[0;36m<module>\u001b[1;34m\u001b[0m\n\u001b[0;32m      1\u001b[0m \u001b[0mtimestamps\u001b[0m \u001b[1;33m=\u001b[0m \u001b[1;33m[\u001b[0m\u001b[1;33m]\u001b[0m\u001b[1;33m\u001b[0m\u001b[1;33m\u001b[0m\u001b[0m\n\u001b[0;32m      2\u001b[0m \u001b[1;32mfor\u001b[0m \u001b[0mk\u001b[0m \u001b[1;32min\u001b[0m \u001b[0mrange\u001b[0m\u001b[1;33m(\u001b[0m\u001b[0mlen\u001b[0m\u001b[1;33m(\u001b[0m\u001b[0mbirdata\u001b[0m\u001b[1;33m)\u001b[0m\u001b[1;33m)\u001b[0m\u001b[1;33m:\u001b[0m\u001b[1;33m\u001b[0m\u001b[1;33m\u001b[0m\u001b[0m\n\u001b[1;32m----> 3\u001b[1;33m     \u001b[0mtimestamps\u001b[0m\u001b[1;33m.\u001b[0m\u001b[0mappend\u001b[0m\u001b[1;33m(\u001b[0m\u001b[0mdt\u001b[0m\u001b[1;33m.\u001b[0m\u001b[0mdatetime\u001b[0m\u001b[1;33m.\u001b[0m\u001b[0mstrptime\u001b[0m\u001b[1;33m(\u001b[0m\u001b[0mbirdata\u001b[0m\u001b[1;33m.\u001b[0m\u001b[0mdate_time\u001b[0m\u001b[1;33m.\u001b[0m\u001b[0miloc\u001b[0m\u001b[1;33m[\u001b[0m\u001b[0mk\u001b[0m\u001b[1;33m]\u001b[0m\u001b[1;33m[\u001b[0m\u001b[1;33m:\u001b[0m\u001b[1;33m-\u001b[0m\u001b[1;36m3\u001b[0m\u001b[1;33m]\u001b[0m\u001b[1;33m,\u001b[0m \u001b[1;34m'%Y-%m-%d %H:%M:%S'\u001b[0m\u001b[1;33m)\u001b[0m\u001b[1;33m)\u001b[0m\u001b[1;33m\u001b[0m\u001b[1;33m\u001b[0m\u001b[0m\n\u001b[0m\u001b[0;32m      4\u001b[0m \u001b[0mbirdata\u001b[0m\u001b[1;33m.\u001b[0m\u001b[0mtimestamp\u001b[0m\u001b[1;33m[\u001b[0m\u001b[1;36m1\u001b[0m\u001b[1;33m]\u001b[0m\u001b[1;33m-\u001b[0m\u001b[0mbirdata\u001b[0m\u001b[1;33m.\u001b[0m\u001b[0mtimestamp\u001b[0m\u001b[1;33m[\u001b[0m\u001b[1;36m0\u001b[0m\u001b[1;33m]\u001b[0m\u001b[1;33m\u001b[0m\u001b[1;33m\u001b[0m\u001b[0m\n",
      "\u001b[1;31mNameError\u001b[0m: name 'dt' is not defined"
     ]
    }
   ],
   "source": [
    "timestamps = []\n",
    "for k in range(len(birdata)):\n",
    "    timestamps.append(dt.datetime.strptime(birdata.date_time.iloc[k][:-3], '%Y-%m-%d %H:%M:%S'))\n",
    "birdata.timestamp[1]-birdata.timestamp[0]"
   ]
  },
  {
   "cell_type": "code",
   "execution_count": 54,
   "metadata": {},
   "outputs": [
    {
     "data": {
      "text/html": [
       "<div>\n",
       "<style scoped>\n",
       "    .dataframe tbody tr th:only-of-type {\n",
       "        vertical-align: middle;\n",
       "    }\n",
       "\n",
       "    .dataframe tbody tr th {\n",
       "        vertical-align: top;\n",
       "    }\n",
       "\n",
       "    .dataframe thead th {\n",
       "        text-align: right;\n",
       "    }\n",
       "</style>\n",
       "<table border=\"1\" class=\"dataframe\">\n",
       "  <thead>\n",
       "    <tr style=\"text-align: right;\">\n",
       "      <th></th>\n",
       "      <th>altitude</th>\n",
       "      <th>date_time</th>\n",
       "      <th>device_info_serial</th>\n",
       "      <th>direction</th>\n",
       "      <th>latitude</th>\n",
       "      <th>longitude</th>\n",
       "      <th>speed_2d</th>\n",
       "      <th>bird_name</th>\n",
       "      <th>timestamp</th>\n",
       "    </tr>\n",
       "  </thead>\n",
       "  <tbody>\n",
       "    <tr>\n",
       "      <th>0</th>\n",
       "      <td>71</td>\n",
       "      <td>2013-08-15 00:18:08+00</td>\n",
       "      <td>851</td>\n",
       "      <td>NaN</td>\n",
       "      <td>49.419859</td>\n",
       "      <td>2.120733</td>\n",
       "      <td>0.191484</td>\n",
       "      <td>Eric</td>\n",
       "      <td>2013-08-15 00:18:08</td>\n",
       "    </tr>\n",
       "    <tr>\n",
       "      <th>1</th>\n",
       "      <td>68</td>\n",
       "      <td>2013-08-15 00:48:07+00</td>\n",
       "      <td>851</td>\n",
       "      <td>NaN</td>\n",
       "      <td>49.419880</td>\n",
       "      <td>2.120746</td>\n",
       "      <td>2.739698</td>\n",
       "      <td>Eric</td>\n",
       "      <td>2013-08-15 00:48:07</td>\n",
       "    </tr>\n",
       "    <tr>\n",
       "      <th>2</th>\n",
       "      <td>68</td>\n",
       "      <td>2013-08-15 01:17:58+00</td>\n",
       "      <td>851</td>\n",
       "      <td>NaN</td>\n",
       "      <td>49.420310</td>\n",
       "      <td>2.120885</td>\n",
       "      <td>0.360099</td>\n",
       "      <td>Eric</td>\n",
       "      <td>2013-08-15 01:17:58</td>\n",
       "    </tr>\n",
       "    <tr>\n",
       "      <th>3</th>\n",
       "      <td>73</td>\n",
       "      <td>2013-08-15 01:47:51+00</td>\n",
       "      <td>851</td>\n",
       "      <td>NaN</td>\n",
       "      <td>49.420359</td>\n",
       "      <td>2.120859</td>\n",
       "      <td>0.039658</td>\n",
       "      <td>Eric</td>\n",
       "      <td>2013-08-15 01:47:51</td>\n",
       "    </tr>\n",
       "    <tr>\n",
       "      <th>4</th>\n",
       "      <td>69</td>\n",
       "      <td>2013-08-15 02:17:42+00</td>\n",
       "      <td>851</td>\n",
       "      <td>NaN</td>\n",
       "      <td>49.420331</td>\n",
       "      <td>2.120887</td>\n",
       "      <td>0.107988</td>\n",
       "      <td>Eric</td>\n",
       "      <td>2013-08-15 02:17:42</td>\n",
       "    </tr>\n",
       "  </tbody>\n",
       "</table>\n",
       "</div>"
      ],
      "text/plain": [
       "   altitude               date_time  device_info_serial  direction   latitude  \\\n",
       "0        71  2013-08-15 00:18:08+00                 851        NaN  49.419859   \n",
       "1        68  2013-08-15 00:48:07+00                 851        NaN  49.419880   \n",
       "2        68  2013-08-15 01:17:58+00                 851        NaN  49.420310   \n",
       "3        73  2013-08-15 01:47:51+00                 851        NaN  49.420359   \n",
       "4        69  2013-08-15 02:17:42+00                 851        NaN  49.420331   \n",
       "\n",
       "   longitude  speed_2d bird_name           timestamp  \n",
       "0   2.120733  0.191484      Eric 2013-08-15 00:18:08  \n",
       "1   2.120746  2.739698      Eric 2013-08-15 00:48:07  \n",
       "2   2.120885  0.360099      Eric 2013-08-15 01:17:58  \n",
       "3   2.120859  0.039658      Eric 2013-08-15 01:47:51  \n",
       "4   2.120887  0.107988      Eric 2013-08-15 02:17:42  "
      ]
     },
     "execution_count": 54,
     "metadata": {},
     "output_type": "execute_result"
    }
   ],
   "source": [
    "birdata['timestamp'] = pd.Series(timestamps, index = birdata.index)\n",
    "birdata.head()"
   ]
  },
  {
   "cell_type": "code",
   "execution_count": 63,
   "metadata": {},
   "outputs": [
    {
     "data": {
      "text/plain": [
       "Timedelta('1 days 05:24:41')"
      ]
     },
     "execution_count": 63,
     "metadata": {},
     "output_type": "execute_result"
    }
   ],
   "source": [
    "times = birdata.timestamp[birdata.bird_name == 'Eric']\n",
    "elapsed = [time - times[0] for time in times]\n",
    "elapsed[100]"
   ]
  },
  {
   "cell_type": "code",
   "execution_count": 19,
   "metadata": {},
   "outputs": [
    {
     "data": {
      "text/plain": [
       "datetime.datetime(2020, 7, 7, 10, 34, 13, 472803)"
      ]
     },
     "execution_count": 19,
     "metadata": {},
     "output_type": "execute_result"
    }
   ],
   "source": [
    "import datetime as dt #마이크로초\n",
    "d = dt.datetime.today()"
   ]
  },
  {
   "cell_type": "code",
   "execution_count": 55,
   "metadata": {},
   "outputs": [],
   "source": [
    "time1 = dt.datetime.today()"
   ]
  },
  {
   "cell_type": "code",
   "execution_count": 56,
   "metadata": {},
   "outputs": [
    {
     "data": {
      "text/plain": [
       "datetime.timedelta(seconds=28, microseconds=447772)"
      ]
     },
     "execution_count": 56,
     "metadata": {},
     "output_type": "execute_result"
    }
   ],
   "source": [
    "time2 = dt.datetime.today()\n",
    "time2 - time1"
   ]
  },
  {
   "cell_type": "code",
   "execution_count": null,
   "metadata": {},
   "outputs": [],
   "source": []
  }
 ],
 "metadata": {
  "kernelspec": {
   "display_name": "Python 3",
   "language": "python",
   "name": "python3"
  },
  "language_info": {
   "codemirror_mode": {
    "name": "ipython",
    "version": 3
   },
   "file_extension": ".py",
   "mimetype": "text/x-python",
   "name": "python",
   "nbconvert_exporter": "python",
   "pygments_lexer": "ipython3",
   "version": "3.7.6"
  }
 },
 "nbformat": 4,
 "nbformat_minor": 4
}
