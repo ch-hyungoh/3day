{
 "cells": [
  {
   "cell_type": "code",
   "execution_count": 7,
   "metadata": {},
   "outputs": [
    {
     "name": "stdout",
     "output_type": "stream",
     "text": [
      "[0]\n"
     ]
    }
   ],
   "source": [
    "from sklearn import tree\n",
    "features = [[270, 0], [250, 0], [220, 1], [240,1]] #입력\n",
    "labels = [0,0,1,1] #결과\n",
    "clf = tree.DecisionTreeClassifier()\n",
    "clf = clf.fit(features, labels)\n",
    "print(clf.predict([[245,1]]))"
   ]
  },
  {
   "cell_type": "code",
   "execution_count": 12,
   "metadata": {},
   "outputs": [
    {
     "name": "stdout",
     "output_type": "stream",
     "text": [
      "['sepal length (cm)', 'sepal width (cm)', 'petal length (cm)', 'petal width (cm)']\n",
      "['setosa' 'versicolor' 'virginica']\n",
      "[7.  3.2 4.7 1.4]\n",
      "1\n"
     ]
    }
   ],
   "source": [
    "from sklearn.datasets import load_iris\n",
    "iris = load_iris()\n",
    "print(iris.feature_names)\n",
    "print(iris.target_names) #결과\n",
    "print(iris.data[50]) #feature\n",
    "print(iris.target[50])"
   ]
  },
  {
   "cell_type": "code",
   "execution_count": 16,
   "metadata": {},
   "outputs": [
    {
     "name": "stdout",
     "output_type": "stream",
     "text": [
      "[0 1 2]\n",
      "[0 1 2]\n"
     ]
    }
   ],
   "source": [
    "import numpy as np\n",
    "# 준비과정\n",
    "test = [0, 50, 100]\n",
    "train_data = np.delete (iris.data, test, axis = 0) # 세 개의 데이터들을 데이터변수에서 제거 2차원이라서 0을 줘야한다\n",
    "train_target = np.delete(iris.target, test) # 세 개의 데이터들을 타겟변수에서 제거\n",
    "\n",
    "test_data = iris.data[test] #데이터 3개있음\n",
    "test_target = iris.target[test]\n",
    "\n",
    "# 결정트리 생성\n",
    "clf = tree.DecisionTreeClassifier()\n",
    "clf.fit(train_data, train_target) # fit =  train 함수\n",
    "\n",
    "# 출력\n",
    "print(test_target)\n",
    "print(clf.predict(test_data)) # 예측 값"
   ]
  },
  {
   "cell_type": "code",
   "execution_count": null,
   "metadata": {},
   "outputs": [],
   "source": []
  }
 ],
 "metadata": {
  "kernelspec": {
   "display_name": "Python 3",
   "language": "python",
   "name": "python3"
  },
  "language_info": {
   "codemirror_mode": {
    "name": "ipython",
    "version": 3
   },
   "file_extension": ".py",
   "mimetype": "text/x-python",
   "name": "python",
   "nbconvert_exporter": "python",
   "pygments_lexer": "ipython3",
   "version": "3.7.6"
  }
 },
 "nbformat": 4,
 "nbformat_minor": 4
}
